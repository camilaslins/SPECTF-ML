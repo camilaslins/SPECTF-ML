{
  "nbformat": 4,
  "nbformat_minor": 0,
  "metadata": {
    "colab": {
      "provenance": []
    },
    "kernelspec": {
      "name": "python3",
      "display_name": "Python 3"
    },
    "language_info": {
      "name": "python"
    }
  },
  "cells": [
    {
      "cell_type": "markdown",
      "source": [
        "#Questão 1"
      ],
      "metadata": {
        "id": "47ZpHJPTwUNJ"
      }
    },
    {
      "cell_type": "markdown",
      "source": [
        "Considere os dados \"SPECTF Heart\" do site UCI (http://archive.ics.uci.edu/\n",
        "dataset/96/spectf+heart). Concatene os datasets SPECTF.test e SPECTF.train\n",
        "para formar o data set SPECTF com 267 individuos (linhas) descritos por 45\n",
        "variaveis (colunas), sendo a primeira coluna a variavel de classe.\n",
        "\n",
        "- Execute os algoritmos KFCM-K e KFCM-K-W.1 50 vezes para obter cada\n",
        "  um uma partição fuzzy com c ∈ {2, 3, 4, 5}. Para cada c selecione o\n",
        "  melhor resultado segundo a função objetivo. Para cada c obtenha a\n",
        "  correspondente partição crisp a partir da melhor partição fuzzy. Para cada\n",
        "  c e partição crisp calcule a silhueta (Sil). Faça o plot Sil ×c para\n",
        "  c ∈ {2, 3, 4, 5} e escolha o numero de clusters: c∗ = arg maxc Sil(c).\n",
        "\n",
        "- Para cada algoritmo e melhor partição fuzzy com c∗, calcule o Modified partition coefficient. Comente.\n",
        "\n",
        "- Para cada algoritmo e partição crisp correspondente a melhor partição\n",
        "  fuzzy com c∗ , calcule o índice de Rand corrigido. Comente. Parametros: T = 100;  e = 10−6; m = 1.1;\n",
        "\n",
        "- Para cada algoritmo e melhor resultado segundo a função objetivo com c∗\n",
        "  mostrar: i) os protótipos de cada grupo (g1, . . . , gc ); ii) o vetor de\n",
        "  parametros de largura de cada grupo (s1, . . . , sc ) iii) a matrix de confusão da partição crisp versus a partição a priori; iv) o plot da função objetivo versus as iterações;"
      ],
      "metadata": {
        "id": "72CO7WFH2JfA"
      }
    },
    {
      "cell_type": "markdown",
      "source": [
        "# Bibliotecas"
      ],
      "metadata": {
        "id": "RvjHJeUvv8gf"
      }
    },
    {
      "cell_type": "code",
      "source": [
        "!pip install ucimlrepo"
      ],
      "metadata": {
        "colab": {
          "base_uri": "https://localhost:8080/"
        },
        "id": "sWfKmymgxfJS",
        "outputId": "dd312b15-b080-459f-81b2-05ddd29efe8d"
      },
      "execution_count": 146,
      "outputs": [
        {
          "output_type": "stream",
          "name": "stdout",
          "text": [
            "Requirement already satisfied: ucimlrepo in /usr/local/lib/python3.10/dist-packages (0.0.7)\n",
            "Requirement already satisfied: pandas>=1.0.0 in /usr/local/lib/python3.10/dist-packages (from ucimlrepo) (2.2.2)\n",
            "Requirement already satisfied: certifi>=2020.12.5 in /usr/local/lib/python3.10/dist-packages (from ucimlrepo) (2024.8.30)\n",
            "Requirement already satisfied: numpy>=1.22.4 in /usr/local/lib/python3.10/dist-packages (from pandas>=1.0.0->ucimlrepo) (1.26.4)\n",
            "Requirement already satisfied: python-dateutil>=2.8.2 in /usr/local/lib/python3.10/dist-packages (from pandas>=1.0.0->ucimlrepo) (2.8.2)\n",
            "Requirement already satisfied: pytz>=2020.1 in /usr/local/lib/python3.10/dist-packages (from pandas>=1.0.0->ucimlrepo) (2024.2)\n",
            "Requirement already satisfied: tzdata>=2022.7 in /usr/local/lib/python3.10/dist-packages (from pandas>=1.0.0->ucimlrepo) (2024.2)\n",
            "Requirement already satisfied: six>=1.5 in /usr/local/lib/python3.10/dist-packages (from python-dateutil>=2.8.2->pandas>=1.0.0->ucimlrepo) (1.16.0)\n"
          ]
        }
      ]
    },
    {
      "cell_type": "code",
      "source": [
        "import json\n",
        "import math\n",
        "from matplotlib import pyplot as plt\n",
        "import numpy as np\n",
        "import pandas as pd\n",
        "from sklearn.preprocessing import Normalizer\n",
        "from sklearn.metrics.cluster import adjusted_rand_score\n",
        "from sklearn.metrics import confusion_matrix, ConfusionMatrixDisplay\n",
        "from sklearn.metrics import silhouette_score\n",
        "from collections import defaultdict\n",
        "from ucimlrepo import fetch_ucirepo\n",
        "from sklearn.preprocessing import MinMaxScaler"
      ],
      "metadata": {
        "id": "nvi5MRm2hq7q"
      },
      "execution_count": 147,
      "outputs": []
    },
    {
      "cell_type": "markdown",
      "source": [
        "#Base de dados"
      ],
      "metadata": {
        "id": "WtQ2Uw-Wv_Xd"
      }
    },
    {
      "cell_type": "code",
      "source": [
        "# fetch dataset\n",
        "spect_heart = fetch_ucirepo(id=96)\n",
        "\n",
        "# data (as pandas dataframes)\n",
        "X = spect_heart.data.features\n",
        "y = spect_heart.data.targets"
      ],
      "metadata": {
        "id": "cC3dN02yxmV9"
      },
      "execution_count": 148,
      "outputs": []
    },
    {
      "cell_type": "code",
      "source": [
        "X.info()"
      ],
      "metadata": {
        "colab": {
          "base_uri": "https://localhost:8080/"
        },
        "id": "o9J9luKExmYp",
        "outputId": "d43af3fa-5162-40e0-dff0-296cebec81bb"
      },
      "execution_count": 149,
      "outputs": [
        {
          "output_type": "stream",
          "name": "stdout",
          "text": [
            "<class 'pandas.core.frame.DataFrame'>\n",
            "RangeIndex: 267 entries, 0 to 266\n",
            "Data columns (total 44 columns):\n",
            " #   Column  Non-Null Count  Dtype\n",
            "---  ------  --------------  -----\n",
            " 0   F1R     267 non-null    int64\n",
            " 1   F1S     267 non-null    int64\n",
            " 2   F2R     267 non-null    int64\n",
            " 3   F2S     267 non-null    int64\n",
            " 4   F3R     267 non-null    int64\n",
            " 5   F3S     267 non-null    int64\n",
            " 6   F4R     267 non-null    int64\n",
            " 7   F4S     267 non-null    int64\n",
            " 8   F5R     267 non-null    int64\n",
            " 9   F5S     267 non-null    int64\n",
            " 10  F6R     267 non-null    int64\n",
            " 11  F6S     267 non-null    int64\n",
            " 12  F7R     267 non-null    int64\n",
            " 13  F7S     267 non-null    int64\n",
            " 14  F8R     267 non-null    int64\n",
            " 15  F8S     267 non-null    int64\n",
            " 16  F9R     267 non-null    int64\n",
            " 17  F9S     267 non-null    int64\n",
            " 18  F10R    267 non-null    int64\n",
            " 19  F10S    267 non-null    int64\n",
            " 20  F11R    267 non-null    int64\n",
            " 21  F11S    267 non-null    int64\n",
            " 22  F12R    267 non-null    int64\n",
            " 23  F12S    267 non-null    int64\n",
            " 24  F13R    267 non-null    int64\n",
            " 25  F13S    267 non-null    int64\n",
            " 26  F14R    267 non-null    int64\n",
            " 27  F14S    267 non-null    int64\n",
            " 28  F15R    267 non-null    int64\n",
            " 29  F15S    267 non-null    int64\n",
            " 30  F16R    267 non-null    int64\n",
            " 31  F16S    267 non-null    int64\n",
            " 32  F17R    267 non-null    int64\n",
            " 33  F17S    267 non-null    int64\n",
            " 34  F18R    267 non-null    int64\n",
            " 35  F18S    267 non-null    int64\n",
            " 36  F19R    267 non-null    int64\n",
            " 37  F19S    267 non-null    int64\n",
            " 38  F20R    267 non-null    int64\n",
            " 39  F20S    267 non-null    int64\n",
            " 40  F21R    267 non-null    int64\n",
            " 41  F21S    267 non-null    int64\n",
            " 42  F22R    267 non-null    int64\n",
            " 43  F22S    267 non-null    int64\n",
            "dtypes: int64(44)\n",
            "memory usage: 91.9 KB\n"
          ]
        }
      ]
    },
    {
      "cell_type": "markdown",
      "source": [
        "#Pré processamento"
      ],
      "metadata": {
        "id": "sSQesY1CwMln"
      }
    },
    {
      "cell_type": "code",
      "source": [
        "scaler = MinMaxScaler()\n",
        "X = pd.DataFrame(scaler.fit_transform(X), columns=X.columns)"
      ],
      "metadata": {
        "id": "IeeiX9aLwL8v"
      },
      "execution_count": 150,
      "outputs": []
    },
    {
      "cell_type": "markdown",
      "source": [
        "#Métricas de avaliação"
      ],
      "metadata": {
        "id": "4zQfZHfIiJig"
      }
    },
    {
      "cell_type": "markdown",
      "source": [
        "##Silhueta"
      ],
      "metadata": {
        "id": "7fJrpEjohXd9"
      }
    },
    {
      "cell_type": "code",
      "source": [
        "def plot_silhouette_scores(X, crispys_list, n_clusters):\n",
        "\n",
        "    silhouette_scores = []\n",
        "\n",
        "    # Calcula os índices de silhueta para cada partição crisp\n",
        "    for crispy_c in crispys_list:\n",
        "        for partition in crispy_c:\n",
        "            sil_score = silhouette_score(X, partition)\n",
        "            silhouette_scores.append(sil_score)\n",
        "\n",
        "    # Identifica o melhor número de clusters (c*)\n",
        "    best_c_index = np.argmax(silhouette_scores)\n",
        "    best_c = n_clusters[best_c_index]\n",
        "    max_silhouette = silhouette_scores[best_c_index]\n",
        "\n",
        "    # Plota o gráfico de silhueta para o melhor número de clusters (c)\n",
        "    plt.figure(figsize=(8, 6))\n",
        "    plt.plot(n_clusters, silhouette_scores, marker='o', label='Índice de Silhueta')\n",
        "    plt.axvline(best_c, color='red', linestyle='--', label=f'Melhor c* = {best_c}')\n",
        "    plt.title(\"Gráfico Silhouette × Número de Clusters (c)\")\n",
        "    plt.xlabel(\"Número de Clusters (c)\")\n",
        "    plt.ylabel(\"Índice de Silhueta (Sil)\")\n",
        "    plt.legend()\n",
        "    plt.grid()\n",
        "    plt.show()\n",
        "\n",
        "    print(f\"O melhor número de clusters é c* = {best_c}, com silhueta média = {max_silhouette:.2f}\")"
      ],
      "metadata": {
        "id": "G7GN_ILXhWOk"
      },
      "execution_count": 151,
      "outputs": []
    },
    {
      "cell_type": "markdown",
      "source": [
        "## Modified Partition Coeficient (MPC)"
      ],
      "metadata": {
        "id": "e8-beJ3_u0bz"
      }
    },
    {
      "cell_type": "code",
      "source": [
        "def calculate_mpc(Us):\n",
        "\n",
        "    Us = np.array(Us)\n",
        "    c, n = Us.shape[1], len(Us)\n",
        "    PC = (1 / n) * np.sum(Us**2)\n",
        "    MPC = (PC - (1 / c)) / (1 - (1 / c))\n",
        "\n",
        "    return MPC"
      ],
      "metadata": {
        "id": "IdK8sQ_kuzfk"
      },
      "execution_count": 152,
      "outputs": []
    },
    {
      "cell_type": "markdown",
      "source": [
        "## Vetor de parametro de largura"
      ],
      "metadata": {
        "id": "Hd51RHOdHZcm"
      }
    },
    {
      "cell_type": "code",
      "source": [
        "def calculate_cluster_widths(X, prototypes, crisp_partition):\n",
        "\n",
        "    cluster_widths = []\n",
        "    n_clusters = len(prototypes)\n",
        "\n",
        "    for i in range(n_clusters):\n",
        "        # Identifica os índices dos pontos pertencentes ao cluster i\n",
        "        cluster_points = X[crisp_partition == i]\n",
        "\n",
        "        # Se o cluster não tiver pontos atribuídos, definir largura como 0\n",
        "        if len(cluster_points) == 0:\n",
        "            cluster_widths.append(0)\n",
        "            continue\n",
        "\n",
        "        # Calcula a largura como a distância média entre os pontos e o protótipo\n",
        "        distances = np.linalg.norm(cluster_points - prototypes[i], axis=1)\n",
        "        cluster_width = np.mean(distances)\n",
        "        cluster_widths.append(cluster_width)\n",
        "\n",
        "    return cluster_widths"
      ],
      "metadata": {
        "id": "9-B0TYnUHUM2"
      },
      "execution_count": 153,
      "outputs": []
    },
    {
      "cell_type": "markdown",
      "source": [
        "## Matriz de confusão"
      ],
      "metadata": {
        "id": "exirOsiGH5Z-"
      }
    },
    {
      "cell_type": "code",
      "source": [
        "def matriz_confusao(y, best_crisp_partition):\n",
        "  # Calcula a matriz de confusão\n",
        "  cm = confusion_matrix(y, best_crisp_partition)\n",
        "\n",
        "  # Plota a matriz de confusão usando ConfusionMatrixDisplay\n",
        "  disp = ConfusionMatrixDisplay(confusion_matrix=cm, display_labels=np.unique(y))\n",
        "  disp.plot(cmap='Blues', values_format='d')\n",
        "\n",
        "  # Configura título e labels\n",
        "  plt.title(f\"Matriz de Confusão para c* = {c_star}\")\n",
        "  plt.xlabel(\"Rótulos Preditos\")\n",
        "  plt.ylabel(\"Rótulos Verdadeiros\")\n",
        "  plt.show()"
      ],
      "metadata": {
        "id": "Em-JgJqbH26B"
      },
      "execution_count": 154,
      "outputs": []
    },
    {
      "cell_type": "markdown",
      "source": [
        "##Plotar valores de J"
      ],
      "metadata": {
        "id": "UvVf_rVXHVwl"
      }
    },
    {
      "cell_type": "code",
      "source": [
        "def plot_J_values(J_values):\n",
        "    plt.figure(figsize=(8, 6))\n",
        "    plt.plot(J_values, marker='o')\n",
        "    plt.title(\"Função Objetivo versus Iterações\")\n",
        "    plt.xlabel(\"Iterações\")\n",
        "    plt.ylabel(\"Função Objetivo (J)\")\n",
        "    plt.grid()\n",
        "    plt.show()"
      ],
      "metadata": {
        "id": "KPWOUN0dHHnC"
      },
      "execution_count": 155,
      "outputs": []
    },
    {
      "cell_type": "markdown",
      "source": [
        "#Parâmetros"
      ],
      "metadata": {
        "id": "MBVm9NTXpTHS"
      }
    },
    {
      "cell_type": "code",
      "source": [
        "n_clusters = [2, 3, 4, 5]\n",
        "sigma = 0.5\n",
        "T = 100\n",
        "e = 1e-6\n",
        "m = 1.1"
      ],
      "metadata": {
        "id": "euoAM9Q6pSbd"
      },
      "execution_count": 156,
      "outputs": []
    },
    {
      "cell_type": "markdown",
      "source": [
        "#KFCM-K"
      ],
      "metadata": {
        "id": "E2x_sIDrg0RP"
      }
    },
    {
      "cell_type": "markdown",
      "source": [
        "##Algoritmo"
      ],
      "metadata": {
        "id": "Th9hzC1IiTTs"
      }
    },
    {
      "cell_type": "code",
      "source": [
        "#Iniciar centroides aleatoriamente\n",
        "def init_G(n_clusters, columns_len):\n",
        "  return np.random.rand(n_clusters, columns_len)\n",
        "\n",
        "#função de Kernel (K)\n",
        "def kernel_function(Xk, Gi, sigma):\n",
        "\n",
        "  distances = 0\n",
        "\n",
        "  for i in range(len(Xk)):\n",
        "      distances += (Xk[i] - Gi[i])**2\n",
        "  kernel = np.exp(-0.5 * distances * 1/sigma**2)\n",
        "\n",
        "  return kernel"
      ],
      "metadata": {
        "id": "oEEkyNmZn8Qh"
      },
      "execution_count": 157,
      "outputs": []
    },
    {
      "cell_type": "code",
      "source": [
        "#Função de membership (U)\n",
        "def calculate_membership(Xk, Gi, G, m):\n",
        "  U = 0\n",
        "  Uki = 0\n",
        "\n",
        "  K_Gi = kernel_function(Xk, Gi, m)\n",
        "  for Gh in G:\n",
        "    K_Gh = kernel_function(Xk, Gh, m)\n",
        "\n",
        "    Uki += ((1-K_Gi)/(1-K_Gh))**(1/(m-1))\n",
        "\n",
        "  U = 1/Uki\n",
        "\n",
        "  return U"
      ],
      "metadata": {
        "id": "6Zyvte9kNl_H"
      },
      "execution_count": 158,
      "outputs": []
    },
    {
      "cell_type": "code",
      "source": [
        "#Função de atualização de prototipos/centroides (G)\n",
        "def update_G(X, Us, Kernels, m):\n",
        "  n_cluster = len(Us[0])\n",
        "  G_new = []\n",
        "\n",
        "  # Para cada cluster i, calcula o novo centro G_i\n",
        "  for i in range(n_cluster):\n",
        "    numerator = np.zeros(X[0].shape)\n",
        "    denominator = 0\n",
        "\n",
        "    for k in range(len(X)):\n",
        "      uki_m = Us[k][i] ** m\n",
        "      kernel_val = Kernels[k][i]\n",
        "\n",
        "      numerator += uki_m * kernel_val * X[k]\n",
        "      denominator += uki_m * kernel_val\n",
        "\n",
        "    G_new.append(numerator / denominator)\n",
        "\n",
        "  return G_new"
      ],
      "metadata": {
        "id": "Z9e4NFig5ciJ"
      },
      "execution_count": 159,
      "outputs": []
    },
    {
      "cell_type": "code",
      "source": [
        "#Função objetivo (J)\n",
        "def calculate_J(Us, Kernels, m, n_cluster):\n",
        "    J = 0\n",
        "    for i in range(n_cluster):\n",
        "        for k in range(len(Us)):\n",
        "            J += (Us[k][i] ** m) * (2 - 2 * Kernels[k][i])\n",
        "    return J"
      ],
      "metadata": {
        "id": "3Aob3Dfd7EwK"
      },
      "execution_count": 160,
      "outputs": []
    },
    {
      "cell_type": "code",
      "source": [
        "def pipeline(X, n_cluster, columns_len, sigma, m, n_runs):\n",
        "    best_J = float('inf')\n",
        "    best_G = None\n",
        "    J_values = []\n",
        "    G_values = []\n",
        "    # Inicialização dos centros dos clusters\n",
        "    G = init_G(n_cluster, columns_len)\n",
        "\n",
        "    for _ in range(n_runs):\n",
        "        Kernels = []\n",
        "        Us = []\n",
        "\n",
        "        # Calcula o kernel e os graus de pertencimento\n",
        "        for Xk in X.values:\n",
        "            k_temp = []\n",
        "            uki_temp = []\n",
        "            for Gi in G:\n",
        "                K = kernel_function(Xk, Gi, sigma)\n",
        "                Uki = calculate_membership(Xk, Gi, G, m)\n",
        "                k_temp.append(K)\n",
        "                uki_temp.append(Uki)\n",
        "            Kernels.append(k_temp)\n",
        "            Us.append(uki_temp)\n",
        "\n",
        "        # Atualização dos centros dos clusters G\n",
        "        G = update_G(X.values, Us, Kernels, m)\n",
        "        G_values.append(G)\n",
        "\n",
        "        # Cálculo da função objetivo J usando a função externa\n",
        "        J = calculate_J(Us, Kernels, m, n_cluster)\n",
        "        J_values.append(J)\n",
        "\n",
        "        # Atualiza o melhor J e os centros G associados se J atual for menor\n",
        "        if J < best_J:\n",
        "            best_J = J\n",
        "            best_G = G\n",
        "\n",
        "    return J_values, G_values, best_J, best_G, Us"
      ],
      "metadata": {
        "id": "ouGZQZLw7GFG"
      },
      "execution_count": 161,
      "outputs": []
    },
    {
      "cell_type": "markdown",
      "source": [
        "## Aplicação"
      ],
      "metadata": {
        "id": "b6PwP2NeiY59"
      }
    },
    {
      "cell_type": "code",
      "source": [
        "results_2 = []\n",
        "results_3 = []\n",
        "results_4 = []\n",
        "results_5 = []\n",
        "\n",
        "results_list = [results_2, results_3, results_4, results_5]\n",
        "\n",
        "mpc_values = []\n",
        "\n",
        "for c, results_c in zip(n_clusters, results_list):\n",
        "    J_values, G_values, best_J, best_G, Us = pipeline(X, c, len(X.columns), sigma, m, n_runs=T)\n",
        "    results_c.append({'J': {'best': best_J, 'values': J_values}, 'G':{'best': best_G, 'values': G_values}, 'U': Us})\n",
        "    mpc = calculate_mpc(Us)\n",
        "    mpc_values.append({'c': c, 'mpc': mpc})"
      ],
      "metadata": {
        "id": "YMgz2RrskXvU"
      },
      "execution_count": 162,
      "outputs": []
    },
    {
      "cell_type": "code",
      "source": [
        "crispy_2 = []\n",
        "crispy_3 = []\n",
        "crispy_4 = []\n",
        "crispy_5 = []\n",
        "fuzzy_2 = []\n",
        "fuzzy_3 = []\n",
        "fuzzy_4 = []\n",
        "fuzzy_5 = []\n",
        "\n",
        "crispys_list = [crispy_2, crispy_3, crispy_4, crispy_5]\n",
        "\n",
        "fuzzys_list = [fuzzy_2, fuzzy_3, fuzzy_4, fuzzy_5]\n",
        "\n",
        "for results_c, fuzzy_c, crispy_c in zip(results_list, fuzzys_list, crispys_list):\n",
        "  u_c = results_c[0]['U']\n",
        "  fuzzy_c.append(u_c)\n",
        "  for instancia in fuzzy_c:\n",
        "    crispy_c.append(np.argmax(instancia, axis=1))"
      ],
      "metadata": {
        "id": "PYhXBBgjkxtH"
      },
      "execution_count": 163,
      "outputs": []
    },
    {
      "cell_type": "markdown",
      "source": [
        "## Escolha de c*"
      ],
      "metadata": {
        "id": "hPsSvhuxiiXs"
      }
    },
    {
      "cell_type": "code",
      "source": [
        "plot_silhouette_scores(X, crispys_list, n_clusters)"
      ],
      "metadata": {
        "colab": {
          "base_uri": "https://localhost:8080/",
          "height": 581
        },
        "id": "SK3MX6iBhWQx",
        "outputId": "6edff9ba-6997-49cd-d7f7-5cceb909debd"
      },
      "execution_count": 164,
      "outputs": [
        {
          "output_type": "display_data",
          "data": {
            "text/plain": [
              "<Figure size 800x600 with 1 Axes>"
            ],
            "image/png": "[encoded data removed]"
          },
          "metadata": {}
        },
        {
          "output_type": "stream",
          "name": "stdout",
          "text": [
            "O melhor número de clusters é c* = 2, com silhueta média = 0.16\n"
          ]
        }
      ]
    },
    {
      "cell_type": "markdown",
      "source": [
        "## Resultados de c*"
      ],
      "metadata": {
        "id": "MDiFO8F2Ehwq"
      }
    },
    {
      "cell_type": "code",
      "source": [
        "best_c_index = np.argmin([result['J']['best'] for result in results_list[0]])\n",
        "c_star = n_clusters[best_c_index]\n",
        "best_prototypes = results_list[best_c_index][0]['G']['best']\n",
        "best_crisp_partition = crispys_list[best_c_index][0]"
      ],
      "metadata": {
        "id": "TAZizBhAEaHA"
      },
      "execution_count": 165,
      "outputs": []
    },
    {
      "cell_type": "markdown",
      "source": [
        "### MPC para partição fuzzy de c*"
      ],
      "metadata": {
        "id": "nCLZrQoR71fw"
      }
    },
    {
      "cell_type": "code",
      "source": [
        "mpc_values[best_c_index]"
      ],
      "metadata": {
        "colab": {
          "base_uri": "https://localhost:8080/"
        },
        "id": "Dx6S4SYF4Xxf",
        "outputId": "fb1d6eb4-5c07-4ed5-85af-f6b8b71bcce6"
      },
      "execution_count": 166,
      "outputs": [
        {
          "output_type": "execute_result",
          "data": {
            "text/plain": [
              "{'c': 2, 'mpc': 0.7113954890262182}"
            ]
          },
          "metadata": {},
          "execution_count": 166
        }
      ]
    },
    {
      "cell_type": "markdown",
      "source": [
        "### Índice de Rand ajustado para partição crispy de c*"
      ],
      "metadata": {
        "id": "Wiz2wea875Ph"
      }
    },
    {
      "cell_type": "code",
      "source": [
        "rand_index = adjusted_rand_score(list(y['diagnosis']), crispys_list[best_c_index][0])\n",
        "print(f\"c = {c_star}, rand = {rand_index}\")"
      ],
      "metadata": {
        "colab": {
          "base_uri": "https://localhost:8080/"
        },
        "id": "9Y1MZn4NlADx",
        "outputId": "e966cc84-8cc1-4d73-c845-06e467a5c892"
      },
      "execution_count": 167,
      "outputs": [
        {
          "output_type": "stream",
          "name": "stdout",
          "text": [
            "c = 2, rand = 0.08015751198007198\n"
          ]
        }
      ]
    },
    {
      "cell_type": "markdown",
      "source": [
        "### Protótipos de cada grupo (g1, .... gc) de c*"
      ],
      "metadata": {
        "id": "vU3IwrHj8Qlc"
      }
    },
    {
      "cell_type": "code",
      "source": [
        "for i, prototype in enumerate(best_prototypes):\n",
        "    print(f\"Protótipo g{i+1} para c*={c_star}: {prototype}\")"
      ],
      "metadata": {
        "colab": {
          "base_uri": "https://localhost:8080/"
        },
        "id": "Be_3gGsW88uN",
        "outputId": "c0006427-dbfa-405e-edd0-7aec919f61b7"
      },
      "execution_count": 168,
      "outputs": [
        {
          "output_type": "stream",
          "name": "stdout",
          "text": [
            "Protótipo g1 para c*=2: [0.77271237 0.81205997 0.72931362 0.7622471  0.70210675 0.60809015\n",
            " 0.78831109 0.82195877 0.85528674 0.81101758 0.88712323 0.88688444\n",
            " 0.78211429 0.7722399  0.68832736 0.74086392 0.85395151 0.79894564\n",
            " 0.64580076 0.79477127 0.78552745 0.74200937 0.69969513 0.64839029\n",
            " 0.64155193 0.61959553 0.76031196 0.64557779 0.77444742 0.78734373\n",
            " 0.82442497 0.85453597 0.69058213 0.71882946 0.81293145 0.80883098\n",
            " 0.74545663 0.82437375 0.76625414 0.77837535 0.71686793 0.65770553\n",
            " 0.54918278 0.62697428]\n",
            "Protótipo g2 para c*=2: [0.73283811 0.74289625 0.71701957 0.72968237 0.77174383 0.67794198\n",
            " 0.80000384 0.82706035 0.81451966 0.74813421 0.85626036 0.84339034\n",
            " 0.80839617 0.82227466 0.80860345 0.83510501 0.86673806 0.80326103\n",
            " 0.6512106  0.77146321 0.78242909 0.73661845 0.77621558 0.7427944\n",
            " 0.80958005 0.79627022 0.80622341 0.68723747 0.81447574 0.84499362\n",
            " 0.82417295 0.85663536 0.70077886 0.73482362 0.83798573 0.83538911\n",
            " 0.70611086 0.77254411 0.84847507 0.8600813  0.85657276 0.82489385\n",
            " 0.69241774 0.80388359]\n"
          ]
        }
      ]
    },
    {
      "cell_type": "markdown",
      "source": [
        "### Vetor de parametros de largura de cada grupo de c*"
      ],
      "metadata": {
        "id": "fZWxa7Q8-OTH"
      }
    },
    {
      "cell_type": "code",
      "source": [
        "cluster_widths = calculate_cluster_widths(X.values, best_prototypes, best_crisp_partition)\n",
        "print(f\"Vetor de parâmetros de largura para c*={c_star}:\")\n",
        "for i, width in enumerate(cluster_widths):\n",
        "    print(f\"s{i+1} = {width:.4f}\")"
      ],
      "metadata": {
        "colab": {
          "base_uri": "https://localhost:8080/"
        },
        "id": "WORWQwkNHN2A",
        "outputId": "3dee9caf-1c6f-4b04-d122-df4d390eef81"
      },
      "execution_count": 169,
      "outputs": [
        {
          "output_type": "stream",
          "name": "stdout",
          "text": [
            "Vetor de parâmetros de largura para c*=2:\n",
            "s1 = 1.0959\n",
            "s2 = 0.6327\n"
          ]
        }
      ]
    },
    {
      "cell_type": "markdown",
      "source": [
        "### Matriz de confusão da partição crispy versus a partição a priori (y) para c*"
      ],
      "metadata": {
        "id": "R7Ablwbp_P8l"
      }
    },
    {
      "cell_type": "code",
      "source": [
        "matriz_confusao(y, best_crisp_partition)"
      ],
      "metadata": {
        "colab": {
          "base_uri": "https://localhost:8080/",
          "height": 472
        },
        "id": "TN_TXq3QHjBz",
        "outputId": "4c484c12-94d4-49c0-cb77-5e72486d00da"
      },
      "execution_count": 170,
      "outputs": [
        {
          "output_type": "display_data",
          "data": {
            "text/plain": [
              "<Figure size 640x480 with 2 Axes>"
            ],
            "image/png": "[encoded data removed]"
          },
          "metadata": {}
        }
      ]
    },
    {
      "cell_type": "markdown",
      "source": [
        "###Plot da função objetivo (J) versus as iterações para c*"
      ],
      "metadata": {
        "id": "jdUovRU1Aoeo"
      }
    },
    {
      "cell_type": "code",
      "source": [
        "plot_J_values(results_list[best_c_index][0]['J']['values'])"
      ],
      "metadata": {
        "colab": {
          "base_uri": "https://localhost:8080/",
          "height": 564
        },
        "id": "qgkyM4rpAnk7",
        "outputId": "05f69a7d-4bd6-452d-b0a8-d1e1cfbf21cb"
      },
      "execution_count": 171,
      "outputs": [
        {
          "output_type": "display_data",
          "data": {
            "text/plain": [
              "<Figure size 800x600 with 1 Axes>"
            ],
            "image/png": "[encoded data removed]"
          },
          "metadata": {}
        }
      ]
    },
    {
      "cell_type": "markdown",
      "source": [
        "# KFCM-K-W.1"
      ],
      "metadata": {
        "id": "9ssTiRzv3Foz"
      }
    },
    {
      "cell_type": "code",
      "source": [
        "# Inicializar centroides aleatoriamente\n",
        "def init_G(n_clusters, columns_len):\n",
        "    return np.random.rand(n_clusters, columns_len)\n",
        "\n",
        "# Inicializar os pesos (w)\n",
        "def init_weights(X):\n",
        "    return np.ones(X.shape[1]) / X.shape[1]"
      ],
      "metadata": {
        "id": "1SpqfMYfLQu3"
      },
      "execution_count": 172,
      "outputs": []
    },
    {
      "cell_type": "code",
      "source": [
        "# Função de Kernel (K) considerando os pesos\n",
        "def kernel_function_weighted(Xk, Gi, sigma, weights):\n",
        "    distances = 0\n",
        "    for i in range(len(Xk)):\n",
        "        distances += weights[i] * (Xk[i] - Gi[i])**2\n",
        "    kernel = np.exp(-0.5 * distances / sigma**2)\n",
        "    return kernel"
      ],
      "metadata": {
        "id": "FO019bPlLWlv"
      },
      "execution_count": 173,
      "outputs": []
    },
    {
      "cell_type": "code",
      "source": [
        "# Função de membership (U) considerando os pesos\n",
        "def calculate_membership_weighted(Xk, Gi, G, m, weights, sigma):\n",
        "    U = 0\n",
        "    Uki = 0\n",
        "\n",
        "    K_Gi = kernel_function_weighted(Xk, Gi, sigma, weights)\n",
        "    for Gh in G:\n",
        "        K_Gh = kernel_function_weighted(Xk, Gh, sigma, weights)\n",
        "        Uki += ((1 - K_Gi) / (1 - K_Gh)) ** (1 / (m - 1))\n",
        "\n",
        "    U = 1 / Uki\n",
        "    return U"
      ],
      "metadata": {
        "id": "wnV1j9OxLZHk"
      },
      "execution_count": 174,
      "outputs": []
    },
    {
      "cell_type": "code",
      "source": [
        "# Atualizar os pesos das características (w)\n",
        "def update_weights(X, G, Us, Kernels, m):\n",
        "    n_features = X.shape[1]\n",
        "    n_clusters = len(G)\n",
        "    weights = np.zeros(n_features)\n",
        "\n",
        "    for j in range(n_features):\n",
        "        numerator = 0\n",
        "        denominator = 0\n",
        "\n",
        "        for i in range(n_clusters):\n",
        "            for k in range(len(X)):\n",
        "                uki_m = Us[k][i] ** m\n",
        "                numerator += uki_m * (X[k][j] - G[i][j])**2\n",
        "                denominator += uki_m\n",
        "\n",
        "        weights[j] = 1 / (numerator / (denominator + 1e-10) + 1e-10)  # Evitar divisão por zero\n",
        "\n",
        "    # Normaliza os pesos para que a soma seja 1\n",
        "    weights /= weights.sum()\n",
        "    return weights"
      ],
      "metadata": {
        "id": "n501up_FLdOu"
      },
      "execution_count": 175,
      "outputs": []
    },
    {
      "cell_type": "code",
      "source": [
        "# Função de atualização de protótipos/centroides (G)\n",
        "def update_G_weighted(X, Us, Kernels, m, weights):\n",
        "    n_cluster = len(Us[0])\n",
        "    G_new = []\n",
        "\n",
        "    for i in range(n_cluster):\n",
        "        numerator = np.zeros(X[0].shape)\n",
        "        denominator = 0\n",
        "\n",
        "        for k in range(len(X)):\n",
        "            uki_m = Us[k][i] ** m\n",
        "            kernel_val = Kernels[k][i]\n",
        "\n",
        "            numerator += uki_m * kernel_val * X[k]\n",
        "            denominator += uki_m * kernel_val\n",
        "\n",
        "        G_new.append(numerator / (denominator + 1e-10))  # Evitar divisão por zero\n",
        "\n",
        "    return G_new"
      ],
      "metadata": {
        "id": "1Tq2sC2ULg2S"
      },
      "execution_count": 176,
      "outputs": []
    },
    {
      "cell_type": "code",
      "source": [
        "# Função objetivo (J)\n",
        "def calculate_J_weighted(Us, Kernels, m, n_cluster):\n",
        "    J = 0\n",
        "    for i in range(n_cluster):\n",
        "        for k in range(len(Us)):\n",
        "            J += (Us[k][i] ** m) * (2 - 2 * Kernels[k][i])\n",
        "    return J"
      ],
      "metadata": {
        "id": "WVidVgFkLj1I"
      },
      "execution_count": 177,
      "outputs": []
    },
    {
      "cell_type": "code",
      "source": [
        "def pipeline_weighted(X, n_cluster, columns_len, sigma, m, n_runs):\n",
        "    best_J = float('inf')\n",
        "    best_G = None\n",
        "    best_weights = None\n",
        "    J_values = []\n",
        "    G_values = []\n",
        "    weights = init_weights(X)\n",
        "\n",
        "    # Inicialização dos centros dos clusters\n",
        "    G = init_G(n_cluster, columns_len)\n",
        "\n",
        "    for _ in range(n_runs):\n",
        "        Kernels = []\n",
        "        Us = []\n",
        "\n",
        "        # Calcula o kernel e os graus de pertencimento\n",
        "        for Xk in X.values:\n",
        "            k_temp = []\n",
        "            uki_temp = []\n",
        "            for Gi in G:\n",
        "                K = kernel_function_weighted(Xk, Gi, sigma, weights)\n",
        "                Uki = calculate_membership_weighted(Xk, Gi, G, m, weights, sigma)\n",
        "                k_temp.append(K)\n",
        "                uki_temp.append(Uki)\n",
        "            Kernels.append(k_temp)\n",
        "            Us.append(uki_temp)\n",
        "\n",
        "        # Atualização dos centros dos clusters G\n",
        "        G = update_G_weighted(X.values, Us, Kernels, m, weights)\n",
        "        G_values.append(G)\n",
        "\n",
        "        # Atualização dos pesos das características\n",
        "        weights = update_weights(X.values, G, Us, Kernels, m)\n",
        "\n",
        "        # Cálculo da função objetivo J\n",
        "        J = calculate_J_weighted(Us, Kernels, m, n_cluster)\n",
        "        J_values.append(J)\n",
        "\n",
        "        # Atualiza o melhor J, os centros G e os pesos associados se J atual for menor\n",
        "        if J < best_J:\n",
        "            best_J = J\n",
        "            best_G = G\n",
        "            best_weights = weights\n",
        "\n",
        "    return J_values, G_values, best_J, best_G, best_weights, Us"
      ],
      "metadata": {
        "id": "ou6xpAvndVRw"
      },
      "execution_count": 178,
      "outputs": []
    },
    {
      "cell_type": "code",
      "source": [
        "results_2 = []\n",
        "results_3 = []\n",
        "results_4 = []\n",
        "results_5 = []\n",
        "\n",
        "results_list = [ results_2, results_3, results_4, results_5]\n",
        "\n",
        "mpc_values = []\n",
        "\n",
        "for c, results_c in zip(n_clusters, results_list):\n",
        "    J_values, G_values, best_J, best_G, Us = pipeline(X, c, len(X.columns), sigma, m, n_runs=T)\n",
        "    results_c.append({'J': {'best': best_J, 'values': J_values}, 'G':{'best': best_G, 'values': G_values}, 'U': Us})\n",
        "    mpc = calculate_mpc(Us)\n",
        "    mpc_values.append({'c': c, 'mpc': mpc})"
      ],
      "metadata": {
        "id": "XvZiHgzemcww"
      },
      "execution_count": 179,
      "outputs": []
    },
    {
      "cell_type": "code",
      "source": [
        "crispy_2 = []\n",
        "crispy_3 = []\n",
        "crispy_4 = []\n",
        "crispy_5 = []\n",
        "fuzzy_2 = []\n",
        "fuzzy_3 = []\n",
        "fuzzy_4 = []\n",
        "fuzzy_5 = []\n",
        "\n",
        "crispys_list = [crispy_2, crispy_3, crispy_4, crispy_5]\n",
        "\n",
        "fuzzys_list = [fuzzy_2, fuzzy_3, fuzzy_4, fuzzy_5]\n",
        "\n",
        "for results_c, fuzzy_c, crispy_c in zip(results_list, fuzzys_list, crispys_list):\n",
        "  u_c = results_c[0]['U']\n",
        "  fuzzy_c.append(u_c)\n",
        "  for instancia in fuzzy_c:\n",
        "    crispy_c.append(np.argmax(instancia, axis=1))"
      ],
      "metadata": {
        "id": "f0KBDRqkmgBA"
      },
      "execution_count": 180,
      "outputs": []
    },
    {
      "cell_type": "markdown",
      "source": [
        "## Escolha de c*"
      ],
      "metadata": {
        "id": "qrB3YLSYI0YM"
      }
    },
    {
      "cell_type": "code",
      "source": [
        "plot_silhouette_scores(X, crispys_list, n_clusters)"
      ],
      "metadata": {
        "colab": {
          "base_uri": "https://localhost:8080/",
          "height": 581
        },
        "id": "8uYsu3ZLm3pJ",
        "outputId": "2c95ade2-ea34-42c1-9448-bde8a792bd55"
      },
      "execution_count": 181,
      "outputs": [
        {
          "output_type": "display_data",
          "data": {
            "text/plain": [
              "<Figure size 800x600 with 1 Axes>"
            ],
            "image/png": "[encoded data removed]"
          },
          "metadata": {}
        },
        {
          "output_type": "stream",
          "name": "stdout",
          "text": [
            "O melhor número de clusters é c* = 2, com silhueta média = 0.16\n"
          ]
        }
      ]
    },
    {
      "cell_type": "markdown",
      "source": [
        "## Resultados de c*"
      ],
      "metadata": {
        "id": "Gop1cMkcIt1e"
      }
    },
    {
      "cell_type": "code",
      "source": [
        "best_c_index = np.argmin([result['J']['best'] for result in results_list[0]])\n",
        "c_star = n_clusters[best_c_index]\n",
        "best_prototypes = results_list[best_c_index][0]['G']['best']\n",
        "best_crisp_partition = crispys_list[best_c_index][0]"
      ],
      "metadata": {
        "id": "A-IeVf9YIt1f"
      },
      "execution_count": 182,
      "outputs": []
    },
    {
      "cell_type": "markdown",
      "source": [
        "### MPC para partição fuzzy de c*"
      ],
      "metadata": {
        "id": "Rn3LEABpIfn2"
      }
    },
    {
      "cell_type": "code",
      "source": [
        "mpc_values[best_c_index]"
      ],
      "metadata": {
        "colab": {
          "base_uri": "https://localhost:8080/"
        },
        "outputId": "8b2b05ca-579b-4245-eb4c-946c9d1329e7",
        "id": "f3j_FOBbIfn2"
      },
      "execution_count": 183,
      "outputs": [
        {
          "output_type": "execute_result",
          "data": {
            "text/plain": [
              "{'c': 2, 'mpc': 0.7113954887244702}"
            ]
          },
          "metadata": {},
          "execution_count": 183
        }
      ]
    },
    {
      "cell_type": "markdown",
      "source": [
        "### Índice de Rand ajustado para partição crispy de c*"
      ],
      "metadata": {
        "id": "SoFY4pwfIfn3"
      }
    },
    {
      "cell_type": "code",
      "source": [
        "rand_index = adjusted_rand_score(list(y['diagnosis']), crispys_list[best_c_index][0])\n",
        "print(f\"c = {c_star}, rand = {rand_index}\")"
      ],
      "metadata": {
        "colab": {
          "base_uri": "https://localhost:8080/"
        },
        "outputId": "12226bcc-a076-4399-fb94-4c44e4d8acb3",
        "id": "W3bk5fO-Ifn3"
      },
      "execution_count": 185,
      "outputs": [
        {
          "output_type": "stream",
          "name": "stdout",
          "text": [
            "c = 2, rand = 0.08015751198007198\n"
          ]
        }
      ]
    },
    {
      "cell_type": "markdown",
      "source": [
        "### Protótipos de cada grupo (g1, .... gc) de c*"
      ],
      "metadata": {
        "id": "eU4REtb8Ifn3"
      }
    },
    {
      "cell_type": "code",
      "source": [
        "for i, prototype in enumerate(best_prototypes):\n",
        "    print(f\"Protótipo g{i+1} para c*={c_star}: {prototype}\")"
      ],
      "metadata": {
        "colab": {
          "base_uri": "https://localhost:8080/"
        },
        "outputId": "13f236a2-fe6c-40cc-e620-c647f83cf0ea",
        "id": "_hdtoT2NIfn3"
      },
      "execution_count": 186,
      "outputs": [
        {
          "output_type": "stream",
          "name": "stdout",
          "text": [
            "Protótipo g1 para c*=2: [0.73283811 0.74289625 0.71701957 0.72968237 0.77174383 0.67794198\n",
            " 0.80000384 0.82706035 0.81451966 0.74813421 0.85626036 0.84339034\n",
            " 0.80839617 0.82227466 0.80860345 0.83510501 0.86673806 0.80326103\n",
            " 0.6512106  0.77146321 0.78242909 0.73661845 0.77621558 0.7427944\n",
            " 0.80958005 0.79627022 0.80622341 0.68723747 0.81447574 0.84499362\n",
            " 0.82417295 0.85663536 0.70077886 0.73482362 0.83798573 0.83538911\n",
            " 0.70611086 0.77254411 0.84847507 0.8600813  0.85657276 0.82489385\n",
            " 0.69241774 0.80388359]\n",
            "Protótipo g2 para c*=2: [0.77271237 0.81205997 0.72931362 0.7622471  0.70210675 0.60809015\n",
            " 0.78831109 0.82195877 0.85528674 0.81101758 0.88712323 0.88688444\n",
            " 0.78211429 0.7722399  0.68832736 0.74086392 0.85395151 0.79894564\n",
            " 0.64580076 0.79477127 0.78552745 0.74200937 0.69969513 0.64839029\n",
            " 0.64155193 0.61959553 0.76031196 0.64557779 0.77444742 0.78734373\n",
            " 0.82442497 0.85453597 0.69058213 0.71882946 0.81293145 0.80883098\n",
            " 0.74545663 0.82437375 0.76625414 0.77837535 0.71686793 0.65770553\n",
            " 0.54918278 0.62697428]\n"
          ]
        }
      ]
    },
    {
      "cell_type": "markdown",
      "source": [
        "### Vetor de parametros de largura de cada grupo de c*"
      ],
      "metadata": {
        "id": "LGG5RltyJCVN"
      }
    },
    {
      "cell_type": "code",
      "source": [
        "cluster_widths = calculate_cluster_widths(X.values, best_prototypes, best_crisp_partition)\n",
        "print(f\"Vetor de parâmetros de largura para c*={c_star}:\")\n",
        "for i, width in enumerate(cluster_widths):\n",
        "    print(f\"s{i+1} = {width:.4f}\")"
      ],
      "metadata": {
        "colab": {
          "base_uri": "https://localhost:8080/"
        },
        "id": "cUC6lS31JCVN",
        "outputId": "61d935db-5daa-4544-cd42-b3b5bb1a819f"
      },
      "execution_count": 187,
      "outputs": [
        {
          "output_type": "stream",
          "name": "stdout",
          "text": [
            "Vetor de parâmetros de largura para c*=2:\n",
            "s1 = 0.6327\n",
            "s2 = 1.0959\n"
          ]
        }
      ]
    },
    {
      "cell_type": "markdown",
      "source": [
        "### Matriz de confusão da partição crispy versus a partição a priori (y) para c*"
      ],
      "metadata": {
        "id": "dW_l6YpyJCVO"
      }
    },
    {
      "cell_type": "code",
      "source": [
        "matriz_confusao(y, best_crisp_partition)"
      ],
      "metadata": {
        "colab": {
          "base_uri": "https://localhost:8080/",
          "height": 472
        },
        "outputId": "abb4e096-31c9-466c-9f19-8836616f9f37",
        "id": "epcMVy-KJCVO"
      },
      "execution_count": 188,
      "outputs": [
        {
          "output_type": "display_data",
          "data": {
            "text/plain": [
              "<Figure size 640x480 with 2 Axes>"
            ],
            "image/png": "[encoded data removed]"
          },
          "metadata": {}
        }
      ]
    },
    {
      "cell_type": "markdown",
      "source": [
        "###Plot da função objetivo (J) versus as iterações para c*"
      ],
      "metadata": {
        "id": "w_XrolEmJL2l"
      }
    },
    {
      "cell_type": "code",
      "source": [
        "plot_J_values(results_list[best_c_index][0]['J']['values'])"
      ],
      "metadata": {
        "colab": {
          "base_uri": "https://localhost:8080/",
          "height": 564
        },
        "outputId": "59cfc631-7b19-4438-a428-82d3d547d471",
        "id": "OEV13D5OJL2m"
      },
      "execution_count": 189,
      "outputs": [
        {
          "output_type": "display_data",
          "data": {
            "text/plain": [
              "<Figure size 800x600 with 1 Axes>"
            ],
            "image/png": "[encoded data removed]"
          },
          "metadata": {}
        }
      ]
    }
  ]
}